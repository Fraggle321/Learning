{
 "cells": [
  {
   "cell_type": "markdown",
   "id": "2ac9078c",
   "metadata": {},
   "source": [
    "This assignment is written to help improve skills with Jupyter notebook"
   ]
  },
  {
   "cell_type": "code",
   "execution_count": 4,
   "id": "1624edc3",
   "metadata": {},
   "outputs": [
    {
     "name": "stdout",
     "output_type": "stream",
     "text": [
      "Hello World\n",
      "-11\n",
      "-10\n",
      "-9\n",
      "-8\n",
      "0\n",
      "2\n",
      "3\n",
      "5\n",
      "end of loop\n"
     ]
    }
   ],
   "source": [
    "# written in python\n",
    "print(\"Hello World\")\n",
    "\n",
    "# with a little loop\n",
    "numbers = [-11, -10, -9, -8, 0, 2, 3, 5]\n",
    "for i in numbers:\n",
    "    print(i)\n",
    "\n",
    "print(\"end of loop\")\n"
   ]
  },
  {
   "cell_type": "code",
   "execution_count": null,
   "id": "e36c0382",
   "metadata": {},
   "outputs": [],
   "source": []
  }
 ],
 "metadata": {
  "kernelspec": {
   "display_name": "Python 3 (ipykernel)",
   "language": "python",
   "name": "python3"
  },
  "language_info": {
   "codemirror_mode": {
    "name": "ipython",
    "version": 3
   },
   "file_extension": ".py",
   "mimetype": "text/x-python",
   "name": "python",
   "nbconvert_exporter": "python",
   "pygments_lexer": "ipython3",
   "version": "3.10.8"
  }
 },
 "nbformat": 4,
 "nbformat_minor": 5
}
