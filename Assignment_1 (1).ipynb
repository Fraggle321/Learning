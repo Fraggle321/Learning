{
 "cells": [
  {
   "cell_type": "markdown",
   "id": "ec8a5d8f",
   "metadata": {},
   "source": [
    "# My Jupyter Notebook on IBM Watson Studio\n",
    "(or not on Watson Studio in this case)"
   ]
  },
  {
   "cell_type": "markdown",
   "id": "6c623491",
   "metadata": {},
   "source": [
    "**Kate Fradley** <br> Career change: Data Scientist"
   ]
  },
  {
   "cell_type": "markdown",
   "id": "3fdd4797",
   "metadata": {},
   "source": [
    "I am interested in Data Science because I enjoy understanding data and want to be better at it. "
   ]
  },
  {
   "cell_type": "markdown",
   "id": "c7499f71",
   "metadata": {},
   "source": [
    "### My code will print out the classic phrase for all first programs and then print a series of numbers before declaring it has reached the end of a loop. "
   ]
  },
  {
   "cell_type": "code",
   "execution_count": 4,
   "id": "fde66ac0",
   "metadata": {},
   "outputs": [
    {
     "name": "stdout",
     "output_type": "stream",
     "text": [
      "Hello World\n",
      "-11\n",
      "-10\n",
      "-9\n",
      "-8\n",
      "0\n",
      "2\n",
      "3\n",
      "5\n",
      "end of loop\n"
     ]
    }
   ],
   "source": [
    "# written in python\n",
    "print(\"Hello World\")\n",
    "\n",
    "# with a little loop\n",
    "numbers = [-11, -10, -9, -8, 0, 2, 3, 5]\n",
    "for i in numbers:\n",
    "    print(i)\n",
    "\n",
    "print(\"end of loop\")\n"
   ]
  },
  {
   "cell_type": "markdown",
   "id": "47e48a23",
   "metadata": {},
   "source": [
    "<hr/>\n",
    "\n",
    "1. first bullet point \n",
    "2. second bullet point\n",
    "\n",
    "| heading one | heading two |\n",
    "| --- | --- |\n",
    "| £345 | £28\n",
    "| £78 | £4.90|"
   ]
  },
  {
   "cell_type": "code",
   "execution_count": null,
   "id": "bd48f206",
   "metadata": {},
   "outputs": [],
   "source": []
  }
 ],
 "metadata": {
  "kernelspec": {
   "display_name": "Python 3 (ipykernel)",
   "language": "python",
   "name": "python3"
  },
  "language_info": {
   "codemirror_mode": {
    "name": "ipython",
    "version": 3
   },
   "file_extension": ".py",
   "mimetype": "text/x-python",
   "name": "python",
   "nbconvert_exporter": "python",
   "pygments_lexer": "ipython3",
   "version": "3.10.8"
  }
 },
 "nbformat": 4,
 "nbformat_minor": 5
}
